{
 "cells": [
  {
   "cell_type": "markdown",
   "id": "d25bc9fa",
   "metadata": {},
   "source": [
    "# RAG Student Assistant"
   ]
  },
  {
   "cell_type": "code",
   "execution_count": 1,
   "id": "2f752662",
   "metadata": {},
   "outputs": [],
   "source": [
    "from langchain_community.document_loaders import PyPDFLoader"
   ]
  },
  {
   "cell_type": "code",
   "execution_count": 2,
   "id": "8eb17f70",
   "metadata": {},
   "outputs": [],
   "source": [
    "# Load pdf\n",
    "loader = PyPDFLoader('./test.pdf')\n",
    "docs = loader.load()"
   ]
  },
  {
   "cell_type": "code",
   "execution_count": 4,
   "id": "ec4ed117",
   "metadata": {},
   "outputs": [
    {
     "name": "stdout",
     "output_type": "stream",
     "text": [
      "1\n",
      "Introduction au Machine Learning\n",
      "Le Machine Learning (apprentissage automatique) est une branche de l'intelligence artificielle qui\n",
      "permet aux ordinateurs d'apprendre à partir des données sans être explicitement programmés.\n",
      "Il existe trois grandes catégories : 1) L'apprentissage supervisé, 2) L'apprentissage non supervisé,\n",
      "3) L'apprentissage par renforcement.\n",
      "Exemple : Un algorithme peut apprendre à reconnaître les chiffres manuscrits en observant des\n",
      "milliers d'exemples annotés.\n",
      "\n"
     ]
    }
   ],
   "source": [
    "print(len(docs))\n",
    "print(docs[0].page_content)"
   ]
  }
 ],
 "metadata": {
  "kernelspec": {
   "display_name": "RAG",
   "language": "python",
   "name": "python3"
  },
  "language_info": {
   "codemirror_mode": {
    "name": "ipython",
    "version": 3
   },
   "file_extension": ".py",
   "mimetype": "text/x-python",
   "name": "python",
   "nbconvert_exporter": "python",
   "pygments_lexer": "ipython3",
   "version": "3.11.13"
  }
 },
 "nbformat": 4,
 "nbformat_minor": 5
}
