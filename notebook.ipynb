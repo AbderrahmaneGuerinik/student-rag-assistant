{
 "cells": [
  {
   "cell_type": "markdown",
   "id": "d25bc9fa",
   "metadata": {},
   "source": [
    "# RAG Student Assistant"
   ]
  },
  {
   "cell_type": "markdown",
   "id": "ce27f046",
   "metadata": {},
   "source": [
    "## Ingestion"
   ]
  },
  {
   "cell_type": "code",
   "execution_count": 1,
   "id": "2f752662",
   "metadata": {},
   "outputs": [],
   "source": [
    "from langchain_community.document_loaders import PyPDFLoader"
   ]
  },
  {
   "cell_type": "code",
   "execution_count": 2,
   "id": "8eb17f70",
   "metadata": {},
   "outputs": [],
   "source": [
    "# Load pdf\n",
    "loader = PyPDFLoader('./test.pdf')\n",
    "docs = loader.load()"
   ]
  },
  {
   "cell_type": "code",
   "execution_count": null,
   "id": "ec4ed117",
   "metadata": {},
   "outputs": [
    {
     "name": "stdout",
     "output_type": "stream",
     "text": [
      "1\n",
      "Introduction au Machine Learning\n",
      "Le Machine Learning (apprentissage automatique) est une branche de l'intelligence artificielle qui\n",
      "permet aux ordinateurs d'apprendre à partir des données sans être explicitement programmés.\n",
      "Il existe trois grandes catégories : 1) L'apprentissage supervisé, 2) L'apprentissage non supervisé,\n",
      "3) L'apprentissage par renforcement.\n",
      "Exemple : Un algorithme peut apprendre à reconnaître les chiffres manuscrits en observant des\n",
      "milliers d'exemples annotés.\n",
      "\n"
     ]
    }
   ],
   "source": [
    "print(len(docs))\n",
    "print(docs[0].page_content)"
   ]
  },
  {
   "cell_type": "markdown",
   "id": "630765b7",
   "metadata": {},
   "source": [
    "### Chunking"
   ]
  },
  {
   "cell_type": "code",
   "execution_count": 9,
   "id": "383e61a7",
   "metadata": {},
   "outputs": [],
   "source": [
    "# Apply Recursive Character Text Splitter\n",
    "from langchain.text_splitter import RecursiveCharacterTextSplitter\n",
    "\n",
    "splitter = RecursiveCharacterTextSplitter(\n",
    "    chunk_size=20,\n",
    "    chunk_overlap=5,\n",
    "    separators=['\\n\\n', '\\n', ' ', '']\n",
    ")\n",
    "\n",
    "chunks = splitter.split_text(docs[0].page_content)"
   ]
  },
  {
   "cell_type": "code",
   "execution_count": 10,
   "id": "e73c2136",
   "metadata": {},
   "outputs": [
    {
     "name": "stdout",
     "output_type": "stream",
     "text": [
      "['Introduction au', 'au Machine Learning', 'Le Machine Learning', '(apprentissage', 'automatique) est', 'est une branche de', \"de l'intelligence\", 'artificielle qui', 'permet aux', 'aux ordinateurs', \"d'apprendre à\", 'à partir des', 'des données sans', 'sans être', 'être explicitement', 'programmés.', 'Il existe trois', 'grandes catégories', ': 1)', \"1) L'apprentissage\", 'supervisé, 2)', \"2) L'apprentissage\", 'non supervisé,', \"3) L'apprentissage\", 'par renforcement.', 'Exemple : Un', ': Un algorithme', 'peut apprendre à', 'à reconnaître les', 'les chiffres', 'manuscrits en', 'en observant des', \"milliers d'exemples\", 'annotés.']\n"
     ]
    }
   ],
   "source": [
    "print(chunks)"
   ]
  }
 ],
 "metadata": {
  "kernelspec": {
   "display_name": "RAG",
   "language": "python",
   "name": "python3"
  },
  "language_info": {
   "codemirror_mode": {
    "name": "ipython",
    "version": 3
   },
   "file_extension": ".py",
   "mimetype": "text/x-python",
   "name": "python",
   "nbconvert_exporter": "python",
   "pygments_lexer": "ipython3",
   "version": "3.11.13"
  }
 },
 "nbformat": 4,
 "nbformat_minor": 5
}
